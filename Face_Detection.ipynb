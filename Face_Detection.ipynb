{
  "nbformat": 4,
  "nbformat_minor": 0,
  "metadata": {
    "colab": {
      "provenance": [],
      "mount_file_id": "1ZukUSfEKGWH99PDUYHDVCzerJxlb6O3v",
      "authorship_tag": "ABX9TyO3UjdqKo25EASuEVGxsx/E",
      "include_colab_link": true
    },
    "kernelspec": {
      "name": "python3",
      "display_name": "Python 3"
    },
    "language_info": {
      "name": "python"
    },
    "accelerator": "GPU",
    "gpuClass": "standard"
  },
  "cells": [
    {
      "cell_type": "markdown",
      "metadata": {
        "id": "view-in-github",
        "colab_type": "text"
      },
      "source": [
        "<a href=\"https://colab.research.google.com/github/utkarshanand336/Data-Science-Projects/blob/main/Face_Detection.ipynb\" target=\"_parent\"><img src=\"https://colab.research.google.com/assets/colab-badge.svg\" alt=\"Open In Colab\"/></a>"
      ]
    },
    {
      "cell_type": "code",
      "execution_count": null,
      "metadata": {
        "id": "mxO0WzdXaKHy"
      },
      "outputs": [],
      "source": [
        "import cv2\n",
        "from google.colab.patches import cv2_imshow"
      ]
    },
    {
      "cell_type": "code",
      "source": [
        "# Read Image\n",
        "img = cv2.imread('blah.jpg')"
      ],
      "metadata": {
        "id": "XY3l6jtucc4z"
      },
      "execution_count": null,
      "outputs": []
    },
    {
      "cell_type": "code",
      "source": [
        "#Output img \n",
        "cv2_imshow(img)"
      ],
      "metadata": {
        "id": "pJjjqnuWe-FK"
      },
      "execution_count": null,
      "outputs": []
    },
    {
      "cell_type": "code",
      "source": [
        "!pip install face_recognition\n",
        "\n"
      ],
      "metadata": {
        "id": "2PMPC3Jfe_H5"
      },
      "execution_count": null,
      "outputs": []
    },
    {
      "cell_type": "code",
      "source": [
        "import face_recognition"
      ],
      "metadata": {
        "id": "6iFAegdIfQtx"
      },
      "execution_count": null,
      "outputs": []
    },
    {
      "cell_type": "code",
      "source": [
        "face_locations=face_recognition.face_locations(img)"
      ],
      "metadata": {
        "id": "hk4cXQeTgihp"
      },
      "execution_count": null,
      "outputs": []
    },
    {
      "cell_type": "code",
      "source": [
        "face_locations"
      ],
      "metadata": {
        "colab": {
          "base_uri": "https://localhost:8080/"
        },
        "id": "SDdQCz_QqKdl",
        "outputId": "bca5b430-1e20-4304-a354-466e523ad7ce"
      },
      "execution_count": null,
      "outputs": [
        {
          "output_type": "execute_result",
          "data": {
            "text/plain": [
              "[(2321, 3812, 3280, 2853),\n",
              " (2747, 7113, 3706, 6155),\n",
              " (2960, 5729, 3919, 4770),\n",
              " (2023, 4685, 2822, 3886),\n",
              " (1656, 4536, 1708, 4484)]"
            ]
          },
          "metadata": {},
          "execution_count": 14
        }
      ]
    },
    {
      "cell_type": "code",
      "source": [
        "from PIL import Image,ImageDraw\n",
        "pil_image = Image.fromarray(img)\n",
        "# Now we will extract bounding box points for all detected faces in image\n",
        "for face_location in face_locations:\n",
        "    # Print the location of each face in this image\n",
        "    top, right, bottom, left = face_location\n",
        "    \n",
        "    # Draw a rectangle using ImageDraw function on image\n",
        "    shape = [(left, top), (right, bottom)] \n",
        "    img1 = ImageDraw.Draw(pil_image)   \n",
        "    \n",
        "    # We set outline color as red and width of 4\n",
        "    img1.rectangle(shape, outline =\"red\", width=4) \n",
        "# Show final image\n",
        "pil_image.show()\n",
        "# Save image\n",
        "pil_image.save(\"output.jpg\")"
      ],
      "metadata": {
        "id": "lEA4-z3_qT0t"
      },
      "execution_count": null,
      "outputs": []
    },
    {
      "cell_type": "code",
      "source": [
        "face=face_recognition.face_landmarks(img)"
      ],
      "metadata": {
        "id": "dtCPpz9-qWYz"
      },
      "execution_count": null,
      "outputs": []
    },
    {
      "cell_type": "code",
      "source": [
        "face"
      ],
      "metadata": {
        "id": "zCcwg6SUqaVD"
      },
      "execution_count": null,
      "outputs": []
    },
    {
      "cell_type": "code",
      "source": [],
      "metadata": {
        "id": "3cFifihfqkLN"
      },
      "execution_count": null,
      "outputs": []
    }
  ]
}