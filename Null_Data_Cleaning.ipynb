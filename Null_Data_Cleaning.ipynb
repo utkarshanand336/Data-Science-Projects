{
  "nbformat": 4,
  "nbformat_minor": 0,
  "metadata": {
    "colab": {
      "provenance": [],
      "authorship_tag": "ABX9TyOaEXzm4HDSgrRK2mRBDSRO",
      "include_colab_link": true
    },
    "kernelspec": {
      "name": "python3",
      "display_name": "Python 3"
    },
    "language_info": {
      "name": "python"
    }
  },
  "cells": [
    {
      "cell_type": "markdown",
      "metadata": {
        "id": "view-in-github",
        "colab_type": "text"
      },
      "source": [
        "<a href=\"https://colab.research.google.com/github/utkarshanand336/Data-Science-Projects/blob/main/Null_Data_Cleaning.ipynb\" target=\"_parent\"><img src=\"https://colab.research.google.com/assets/colab-badge.svg\" alt=\"Open In Colab\"/></a>"
      ]
    },
    {
      "cell_type": "code",
      "execution_count": null,
      "metadata": {
        "id": "SDiC44MD1cG9"
      },
      "outputs": [],
      "source": [
        "import pandas as pd"
      ]
    },
    {
      "cell_type": "code",
      "source": [
        "df=pd.read_csv('nulldata.csv')"
      ],
      "metadata": {
        "id": "gFbt8uNG178I"
      },
      "execution_count": null,
      "outputs": []
    },
    {
      "cell_type": "code",
      "source": [
        "df.info()"
      ],
      "metadata": {
        "colab": {
          "base_uri": "https://localhost:8080/"
        },
        "id": "T06S5gCE3D5q",
        "outputId": "2e7919d5-8180-4723-ed0a-f83f92e81c41"
      },
      "execution_count": null,
      "outputs": [
        {
          "output_type": "stream",
          "name": "stdout",
          "text": [
            "<class 'pandas.core.frame.DataFrame'>\n",
            "RangeIndex: 27 entries, 0 to 26\n",
            "Data columns (total 6 columns):\n",
            " #   Column             Non-Null Count  Dtype  \n",
            "---  ------             --------------  -----  \n",
            " 0   Name               27 non-null     object \n",
            " 1    \"Team\"            27 non-null     object \n",
            " 2    \"Position\"        27 non-null     object \n",
            " 3    \"Height(inches)\"  27 non-null     int64  \n",
            " 4    \"Weight(lbs)\"     27 non-null     int64  \n",
            " 5    \"Age\"             23 non-null     float64\n",
            "dtypes: float64(1), int64(2), object(3)\n",
            "memory usage: 1.4+ KB\n"
          ]
        }
      ]
    },
    {
      "cell_type": "code",
      "source": [
        "df.isnull().sum()"
      ],
      "metadata": {
        "colab": {
          "base_uri": "https://localhost:8080/"
        },
        "id": "_HH05j_53H6Z",
        "outputId": "b5266ba8-2035-44aa-f4d4-c8d02daead99"
      },
      "execution_count": null,
      "outputs": [
        {
          "output_type": "execute_result",
          "data": {
            "text/plain": [
              "Name                 0\n",
              " \"Team\"              0\n",
              " \"Position\"          0\n",
              " \"Height(inches)\"    0\n",
              " \"Weight(lbs)\"       0\n",
              " \"Age\"               4\n",
              "dtype: int64"
            ]
          },
          "metadata": {},
          "execution_count": 14
        }
      ]
    },
    {
      "cell_type": "code",
      "source": [
        "df.dropna(inplace=True)"
      ],
      "metadata": {
        "id": "dgZGobHf3NFS"
      },
      "execution_count": null,
      "outputs": []
    },
    {
      "cell_type": "code",
      "source": [
        "k=df[' \"Age\"'].mean()"
      ],
      "metadata": {
        "id": "d7UgrogI3Vyi"
      },
      "execution_count": null,
      "outputs": []
    },
    {
      "cell_type": "code",
      "source": [
        "df.info()"
      ],
      "metadata": {
        "colab": {
          "base_uri": "https://localhost:8080/"
        },
        "id": "9_OXMrL53cdZ",
        "outputId": "4f5521e3-e658-410e-c9f8-fffc91e4305e"
      },
      "execution_count": null,
      "outputs": [
        {
          "output_type": "stream",
          "name": "stdout",
          "text": [
            "<class 'pandas.core.frame.DataFrame'>\n",
            "Int64Index: 23 entries, 0 to 26\n",
            "Data columns (total 6 columns):\n",
            " #   Column             Non-Null Count  Dtype  \n",
            "---  ------             --------------  -----  \n",
            " 0   Name               23 non-null     object \n",
            " 1    \"Team\"            23 non-null     object \n",
            " 2    \"Position\"        23 non-null     object \n",
            " 3    \"Height(inches)\"  23 non-null     int64  \n",
            " 4    \"Weight(lbs)\"     23 non-null     int64  \n",
            " 5    \"Age\"             23 non-null     float64\n",
            "dtypes: float64(1), int64(2), object(3)\n",
            "memory usage: 1.3+ KB\n"
          ]
        }
      ]
    },
    {
      "cell_type": "code",
      "source": [
        "s = df[' \"Age\"'].median()"
      ],
      "metadata": {
        "id": "1BPY1sTC3gGR"
      },
      "execution_count": null,
      "outputs": []
    },
    {
      "cell_type": "code",
      "source": [
        "df.info()"
      ],
      "metadata": {
        "colab": {
          "base_uri": "https://localhost:8080/"
        },
        "id": "MzZAsqu-3oH6",
        "outputId": "8796d1b6-c41c-45d8-bf8a-7e0bbd10e600"
      },
      "execution_count": null,
      "outputs": [
        {
          "output_type": "stream",
          "name": "stdout",
          "text": [
            "<class 'pandas.core.frame.DataFrame'>\n",
            "Int64Index: 23 entries, 0 to 26\n",
            "Data columns (total 6 columns):\n",
            " #   Column             Non-Null Count  Dtype  \n",
            "---  ------             --------------  -----  \n",
            " 0   Name               23 non-null     object \n",
            " 1    \"Team\"            23 non-null     object \n",
            " 2    \"Position\"        23 non-null     object \n",
            " 3    \"Height(inches)\"  23 non-null     int64  \n",
            " 4    \"Weight(lbs)\"     23 non-null     int64  \n",
            " 5    \"Age\"             23 non-null     float64\n",
            "dtypes: float64(1), int64(2), object(3)\n",
            "memory usage: 1.3+ KB\n"
          ]
        }
      ]
    },
    {
      "cell_type": "code",
      "source": [
        "df.describe()"
      ],
      "metadata": {
        "id": "-grkR_Ae3pX5"
      },
      "execution_count": null,
      "outputs": []
    },
    {
      "cell_type": "code",
      "source": [
        "df"
      ],
      "metadata": {
        "colab": {
          "base_uri": "https://localhost:8080/",
          "height": 771
        },
        "id": "eyleHMpi3yIZ",
        "outputId": "950ad7c0-318a-4cab-b3de-a969bfe408a9"
      },
      "execution_count": null,
      "outputs": [
        {
          "output_type": "execute_result",
          "data": {
            "text/plain": [
              "                Name  \"Team\"           \"Position\"   \"Height(inches)\"  \\\n",
              "0      Adam Donachie   \"BAL\"            \"Catcher\"                 74   \n",
              "1          Paul Bako   \"BAL\"            \"Catcher\"                 74   \n",
              "2    Ramon Hernandez   \"BAL\"            \"Catcher\"                 72   \n",
              "3       Kevin Millar   \"BAL\"      \"First Baseman\"                 72   \n",
              "5      Brian Roberts   \"BAL\"     \"Second Baseman\"                 69   \n",
              "6      Miguel Tejada   \"BAL\"          \"Shortstop\"                 69   \n",
              "7        Melvin Mora   \"BAL\"      \"Third Baseman\"                 71   \n",
              "8        Aubrey Huff   \"BAL\"      \"Third Baseman\"                 76   \n",
              "10   Jeff Fiorentino   \"BAL\"         \"Outfielder\"                 73   \n",
              "11     Freddie Bynum   \"BAL\"         \"Outfielder\"                 73   \n",
              "12     Nick Markakis   \"BAL\"         \"Outfielder\"                 74   \n",
              "13     Brandon Fahey   \"BAL\"         \"Outfielder\"                 74   \n",
              "14   Corey Patterson   \"BAL\"         \"Outfielder\"                 69   \n",
              "15        Jay Payton   \"BAL\"         \"Outfielder\"                 70   \n",
              "17       Erik Bedard   \"BAL\"   \"Starting Pitcher\"                 73   \n",
              "18       Hayden Penn   \"BAL\"   \"Starting Pitcher\"                 75   \n",
              "19       Adam Loewen   \"BAL\"   \"Starting Pitcher\"                 78   \n",
              "20    Daniel Cabrera   \"BAL\"   \"Starting Pitcher\"                 79   \n",
              "21    Steve Trachsel   \"BAL\"   \"Starting Pitcher\"                 76   \n",
              "22      Jaret Wright   \"BAL\"   \"Starting Pitcher\"                 74   \n",
              "24  Scott Williamson   \"BAL\"     \"Relief Pitcher\"                 72   \n",
              "25      John Parrish   \"BAL\"     \"Relief Pitcher\"                 71   \n",
              "26        Danys Baez   \"BAL\"     \"Relief Pitcher\"                 75   \n",
              "\n",
              "     \"Weight(lbs)\"   \"Age\"  \n",
              "0              180   22.99  \n",
              "1              215   34.69  \n",
              "2              210   30.78  \n",
              "3              210   35.43  \n",
              "5              176   29.39  \n",
              "6              209   30.77  \n",
              "7              200   35.07  \n",
              "8              231   30.19  \n",
              "10             188   23.88  \n",
              "11             180   26.96  \n",
              "12             185   23.29  \n",
              "13             160   26.11  \n",
              "14             180   27.55  \n",
              "15             185   34.27  \n",
              "17             189   27.99  \n",
              "18             185   22.38  \n",
              "19             219   22.89  \n",
              "20             230   25.76  \n",
              "21             205   36.33  \n",
              "22             230   31.17  \n",
              "24             180   31.03  \n",
              "25             192   29.26  \n",
              "26             225   29.47  "
            ],
            "text/html": [
              "\n",
              "  <div id=\"df-dfa4f132-a7f8-4f02-b673-8650b3b63181\">\n",
              "    <div class=\"colab-df-container\">\n",
              "      <div>\n",
              "<style scoped>\n",
              "    .dataframe tbody tr th:only-of-type {\n",
              "        vertical-align: middle;\n",
              "    }\n",
              "\n",
              "    .dataframe tbody tr th {\n",
              "        vertical-align: top;\n",
              "    }\n",
              "\n",
              "    .dataframe thead th {\n",
              "        text-align: right;\n",
              "    }\n",
              "</style>\n",
              "<table border=\"1\" class=\"dataframe\">\n",
              "  <thead>\n",
              "    <tr style=\"text-align: right;\">\n",
              "      <th></th>\n",
              "      <th>Name</th>\n",
              "      <th>\"Team\"</th>\n",
              "      <th>\"Position\"</th>\n",
              "      <th>\"Height(inches)\"</th>\n",
              "      <th>\"Weight(lbs)\"</th>\n",
              "      <th>\"Age\"</th>\n",
              "    </tr>\n",
              "  </thead>\n",
              "  <tbody>\n",
              "    <tr>\n",
              "      <th>0</th>\n",
              "      <td>Adam Donachie</td>\n",
              "      <td>\"BAL\"</td>\n",
              "      <td>\"Catcher\"</td>\n",
              "      <td>74</td>\n",
              "      <td>180</td>\n",
              "      <td>22.99</td>\n",
              "    </tr>\n",
              "    <tr>\n",
              "      <th>1</th>\n",
              "      <td>Paul Bako</td>\n",
              "      <td>\"BAL\"</td>\n",
              "      <td>\"Catcher\"</td>\n",
              "      <td>74</td>\n",
              "      <td>215</td>\n",
              "      <td>34.69</td>\n",
              "    </tr>\n",
              "    <tr>\n",
              "      <th>2</th>\n",
              "      <td>Ramon Hernandez</td>\n",
              "      <td>\"BAL\"</td>\n",
              "      <td>\"Catcher\"</td>\n",
              "      <td>72</td>\n",
              "      <td>210</td>\n",
              "      <td>30.78</td>\n",
              "    </tr>\n",
              "    <tr>\n",
              "      <th>3</th>\n",
              "      <td>Kevin Millar</td>\n",
              "      <td>\"BAL\"</td>\n",
              "      <td>\"First Baseman\"</td>\n",
              "      <td>72</td>\n",
              "      <td>210</td>\n",
              "      <td>35.43</td>\n",
              "    </tr>\n",
              "    <tr>\n",
              "      <th>5</th>\n",
              "      <td>Brian Roberts</td>\n",
              "      <td>\"BAL\"</td>\n",
              "      <td>\"Second Baseman\"</td>\n",
              "      <td>69</td>\n",
              "      <td>176</td>\n",
              "      <td>29.39</td>\n",
              "    </tr>\n",
              "    <tr>\n",
              "      <th>6</th>\n",
              "      <td>Miguel Tejada</td>\n",
              "      <td>\"BAL\"</td>\n",
              "      <td>\"Shortstop\"</td>\n",
              "      <td>69</td>\n",
              "      <td>209</td>\n",
              "      <td>30.77</td>\n",
              "    </tr>\n",
              "    <tr>\n",
              "      <th>7</th>\n",
              "      <td>Melvin Mora</td>\n",
              "      <td>\"BAL\"</td>\n",
              "      <td>\"Third Baseman\"</td>\n",
              "      <td>71</td>\n",
              "      <td>200</td>\n",
              "      <td>35.07</td>\n",
              "    </tr>\n",
              "    <tr>\n",
              "      <th>8</th>\n",
              "      <td>Aubrey Huff</td>\n",
              "      <td>\"BAL\"</td>\n",
              "      <td>\"Third Baseman\"</td>\n",
              "      <td>76</td>\n",
              "      <td>231</td>\n",
              "      <td>30.19</td>\n",
              "    </tr>\n",
              "    <tr>\n",
              "      <th>10</th>\n",
              "      <td>Jeff Fiorentino</td>\n",
              "      <td>\"BAL\"</td>\n",
              "      <td>\"Outfielder\"</td>\n",
              "      <td>73</td>\n",
              "      <td>188</td>\n",
              "      <td>23.88</td>\n",
              "    </tr>\n",
              "    <tr>\n",
              "      <th>11</th>\n",
              "      <td>Freddie Bynum</td>\n",
              "      <td>\"BAL\"</td>\n",
              "      <td>\"Outfielder\"</td>\n",
              "      <td>73</td>\n",
              "      <td>180</td>\n",
              "      <td>26.96</td>\n",
              "    </tr>\n",
              "    <tr>\n",
              "      <th>12</th>\n",
              "      <td>Nick Markakis</td>\n",
              "      <td>\"BAL\"</td>\n",
              "      <td>\"Outfielder\"</td>\n",
              "      <td>74</td>\n",
              "      <td>185</td>\n",
              "      <td>23.29</td>\n",
              "    </tr>\n",
              "    <tr>\n",
              "      <th>13</th>\n",
              "      <td>Brandon Fahey</td>\n",
              "      <td>\"BAL\"</td>\n",
              "      <td>\"Outfielder\"</td>\n",
              "      <td>74</td>\n",
              "      <td>160</td>\n",
              "      <td>26.11</td>\n",
              "    </tr>\n",
              "    <tr>\n",
              "      <th>14</th>\n",
              "      <td>Corey Patterson</td>\n",
              "      <td>\"BAL\"</td>\n",
              "      <td>\"Outfielder\"</td>\n",
              "      <td>69</td>\n",
              "      <td>180</td>\n",
              "      <td>27.55</td>\n",
              "    </tr>\n",
              "    <tr>\n",
              "      <th>15</th>\n",
              "      <td>Jay Payton</td>\n",
              "      <td>\"BAL\"</td>\n",
              "      <td>\"Outfielder\"</td>\n",
              "      <td>70</td>\n",
              "      <td>185</td>\n",
              "      <td>34.27</td>\n",
              "    </tr>\n",
              "    <tr>\n",
              "      <th>17</th>\n",
              "      <td>Erik Bedard</td>\n",
              "      <td>\"BAL\"</td>\n",
              "      <td>\"Starting Pitcher\"</td>\n",
              "      <td>73</td>\n",
              "      <td>189</td>\n",
              "      <td>27.99</td>\n",
              "    </tr>\n",
              "    <tr>\n",
              "      <th>18</th>\n",
              "      <td>Hayden Penn</td>\n",
              "      <td>\"BAL\"</td>\n",
              "      <td>\"Starting Pitcher\"</td>\n",
              "      <td>75</td>\n",
              "      <td>185</td>\n",
              "      <td>22.38</td>\n",
              "    </tr>\n",
              "    <tr>\n",
              "      <th>19</th>\n",
              "      <td>Adam Loewen</td>\n",
              "      <td>\"BAL\"</td>\n",
              "      <td>\"Starting Pitcher\"</td>\n",
              "      <td>78</td>\n",
              "      <td>219</td>\n",
              "      <td>22.89</td>\n",
              "    </tr>\n",
              "    <tr>\n",
              "      <th>20</th>\n",
              "      <td>Daniel Cabrera</td>\n",
              "      <td>\"BAL\"</td>\n",
              "      <td>\"Starting Pitcher\"</td>\n",
              "      <td>79</td>\n",
              "      <td>230</td>\n",
              "      <td>25.76</td>\n",
              "    </tr>\n",
              "    <tr>\n",
              "      <th>21</th>\n",
              "      <td>Steve Trachsel</td>\n",
              "      <td>\"BAL\"</td>\n",
              "      <td>\"Starting Pitcher\"</td>\n",
              "      <td>76</td>\n",
              "      <td>205</td>\n",
              "      <td>36.33</td>\n",
              "    </tr>\n",
              "    <tr>\n",
              "      <th>22</th>\n",
              "      <td>Jaret Wright</td>\n",
              "      <td>\"BAL\"</td>\n",
              "      <td>\"Starting Pitcher\"</td>\n",
              "      <td>74</td>\n",
              "      <td>230</td>\n",
              "      <td>31.17</td>\n",
              "    </tr>\n",
              "    <tr>\n",
              "      <th>24</th>\n",
              "      <td>Scott Williamson</td>\n",
              "      <td>\"BAL\"</td>\n",
              "      <td>\"Relief Pitcher\"</td>\n",
              "      <td>72</td>\n",
              "      <td>180</td>\n",
              "      <td>31.03</td>\n",
              "    </tr>\n",
              "    <tr>\n",
              "      <th>25</th>\n",
              "      <td>John Parrish</td>\n",
              "      <td>\"BAL\"</td>\n",
              "      <td>\"Relief Pitcher\"</td>\n",
              "      <td>71</td>\n",
              "      <td>192</td>\n",
              "      <td>29.26</td>\n",
              "    </tr>\n",
              "    <tr>\n",
              "      <th>26</th>\n",
              "      <td>Danys Baez</td>\n",
              "      <td>\"BAL\"</td>\n",
              "      <td>\"Relief Pitcher\"</td>\n",
              "      <td>75</td>\n",
              "      <td>225</td>\n",
              "      <td>29.47</td>\n",
              "    </tr>\n",
              "  </tbody>\n",
              "</table>\n",
              "</div>\n",
              "      <button class=\"colab-df-convert\" onclick=\"convertToInteractive('df-dfa4f132-a7f8-4f02-b673-8650b3b63181')\"\n",
              "              title=\"Convert this dataframe to an interactive table.\"\n",
              "              style=\"display:none;\">\n",
              "        \n",
              "  <svg xmlns=\"http://www.w3.org/2000/svg\" height=\"24px\"viewBox=\"0 0 24 24\"\n",
              "       width=\"24px\">\n",
              "    <path d=\"M0 0h24v24H0V0z\" fill=\"none\"/>\n",
              "    <path d=\"M18.56 5.44l.94 2.06.94-2.06 2.06-.94-2.06-.94-.94-2.06-.94 2.06-2.06.94zm-11 1L8.5 8.5l.94-2.06 2.06-.94-2.06-.94L8.5 2.5l-.94 2.06-2.06.94zm10 10l.94 2.06.94-2.06 2.06-.94-2.06-.94-.94-2.06-.94 2.06-2.06.94z\"/><path d=\"M17.41 7.96l-1.37-1.37c-.4-.4-.92-.59-1.43-.59-.52 0-1.04.2-1.43.59L10.3 9.45l-7.72 7.72c-.78.78-.78 2.05 0 2.83L4 21.41c.39.39.9.59 1.41.59.51 0 1.02-.2 1.41-.59l7.78-7.78 2.81-2.81c.8-.78.8-2.07 0-2.86zM5.41 20L4 18.59l7.72-7.72 1.47 1.35L5.41 20z\"/>\n",
              "  </svg>\n",
              "      </button>\n",
              "      \n",
              "  <style>\n",
              "    .colab-df-container {\n",
              "      display:flex;\n",
              "      flex-wrap:wrap;\n",
              "      gap: 12px;\n",
              "    }\n",
              "\n",
              "    .colab-df-convert {\n",
              "      background-color: #E8F0FE;\n",
              "      border: none;\n",
              "      border-radius: 50%;\n",
              "      cursor: pointer;\n",
              "      display: none;\n",
              "      fill: #1967D2;\n",
              "      height: 32px;\n",
              "      padding: 0 0 0 0;\n",
              "      width: 32px;\n",
              "    }\n",
              "\n",
              "    .colab-df-convert:hover {\n",
              "      background-color: #E2EBFA;\n",
              "      box-shadow: 0px 1px 2px rgba(60, 64, 67, 0.3), 0px 1px 3px 1px rgba(60, 64, 67, 0.15);\n",
              "      fill: #174EA6;\n",
              "    }\n",
              "\n",
              "    [theme=dark] .colab-df-convert {\n",
              "      background-color: #3B4455;\n",
              "      fill: #D2E3FC;\n",
              "    }\n",
              "\n",
              "    [theme=dark] .colab-df-convert:hover {\n",
              "      background-color: #434B5C;\n",
              "      box-shadow: 0px 1px 3px 1px rgba(0, 0, 0, 0.15);\n",
              "      filter: drop-shadow(0px 1px 2px rgba(0, 0, 0, 0.3));\n",
              "      fill: #FFFFFF;\n",
              "    }\n",
              "  </style>\n",
              "\n",
              "      <script>\n",
              "        const buttonEl =\n",
              "          document.querySelector('#df-dfa4f132-a7f8-4f02-b673-8650b3b63181 button.colab-df-convert');\n",
              "        buttonEl.style.display =\n",
              "          google.colab.kernel.accessAllowed ? 'block' : 'none';\n",
              "\n",
              "        async function convertToInteractive(key) {\n",
              "          const element = document.querySelector('#df-dfa4f132-a7f8-4f02-b673-8650b3b63181');\n",
              "          const dataTable =\n",
              "            await google.colab.kernel.invokeFunction('convertToInteractive',\n",
              "                                                     [key], {});\n",
              "          if (!dataTable) return;\n",
              "\n",
              "          const docLinkHtml = 'Like what you see? Visit the ' +\n",
              "            '<a target=\"_blank\" href=https://colab.research.google.com/notebooks/data_table.ipynb>data table notebook</a>'\n",
              "            + ' to learn more about interactive tables.';\n",
              "          element.innerHTML = '';\n",
              "          dataTable['output_type'] = 'display_data';\n",
              "          await google.colab.output.renderOutput(dataTable, element);\n",
              "          const docLink = document.createElement('div');\n",
              "          docLink.innerHTML = docLinkHtml;\n",
              "          element.appendChild(docLink);\n",
              "        }\n",
              "      </script>\n",
              "    </div>\n",
              "  </div>\n",
              "  "
            ]
          },
          "metadata": {},
          "execution_count": 24
        }
      ]
    },
    {
      "cell_type": "code",
      "source": [
        "df.mean()"
      ],
      "metadata": {
        "colab": {
          "base_uri": "https://localhost:8080/"
        },
        "id": "XJTboiMx3-A6",
        "outputId": "923affc4-dccb-406b-ec17-8affeecce5da"
      },
      "execution_count": null,
      "outputs": [
        {
          "output_type": "stream",
          "name": "stderr",
          "text": [
            "<ipython-input-25-c61f0c8f89b5>:1: FutureWarning: Dropping of nuisance columns in DataFrame reductions (with 'numeric_only=None') is deprecated; in a future version this will raise TypeError.  Select only valid columns before calling the reduction.\n",
            "  df.mean()\n"
          ]
        },
        {
          "output_type": "execute_result",
          "data": {
            "text/plain": [
              " \"Height(inches)\"     73.173913\n",
              " \"Weight(lbs)\"       198.434783\n",
              " \"Age\"                29.028261\n",
              "dtype: float64"
            ]
          },
          "metadata": {},
          "execution_count": 25
        }
      ]
    },
    {
      "cell_type": "code",
      "source": [
        "df.median()"
      ],
      "metadata": {
        "colab": {
          "base_uri": "https://localhost:8080/"
        },
        "id": "QHEMtBd95WIC",
        "outputId": "919b52d4-626e-4c8a-9dbd-dab347f913d0"
      },
      "execution_count": null,
      "outputs": [
        {
          "output_type": "stream",
          "name": "stderr",
          "text": [
            "<ipython-input-26-6d467abf240d>:1: FutureWarning: Dropping of nuisance columns in DataFrame reductions (with 'numeric_only=None') is deprecated; in a future version this will raise TypeError.  Select only valid columns before calling the reduction.\n",
            "  df.median()\n"
          ]
        },
        {
          "output_type": "execute_result",
          "data": {
            "text/plain": [
              " \"Height(inches)\"     73.00\n",
              " \"Weight(lbs)\"       192.00\n",
              " \"Age\"                29.39\n",
              "dtype: float64"
            ]
          },
          "metadata": {},
          "execution_count": 26
        }
      ]
    },
    {
      "cell_type": "code",
      "source": [
        "k=df[' \"Age\"'].median()"
      ],
      "metadata": {
        "id": "qSGnC2KJ5ZHh"
      },
      "execution_count": null,
      "outputs": []
    },
    {
      "cell_type": "code",
      "source": [
        "df[' \"Age\"'].fillna(k,inplace=True)"
      ],
      "metadata": {
        "id": "nfQOjK415hm6"
      },
      "execution_count": null,
      "outputs": []
    },
    {
      "cell_type": "code",
      "source": [
        "df.describe()"
      ],
      "metadata": {
        "id": "rZFEPxwL5pMx"
      },
      "execution_count": null,
      "outputs": []
    },
    {
      "cell_type": "code",
      "source": [
        "df.info"
      ],
      "metadata": {
        "id": "VwUROnds5q_r"
      },
      "execution_count": null,
      "outputs": []
    },
    {
      "cell_type": "code",
      "source": [
        "df.duplicated().sum()"
      ],
      "metadata": {
        "colab": {
          "base_uri": "https://localhost:8080/"
        },
        "id": "GEPwA8SZ5ssp",
        "outputId": "84318b12-52e3-4550-c6f3-89b63dd3b85e"
      },
      "execution_count": null,
      "outputs": [
        {
          "output_type": "execute_result",
          "data": {
            "text/plain": [
              "0"
            ]
          },
          "metadata": {},
          "execution_count": 31
        }
      ]
    },
    {
      "cell_type": "code",
      "source": [
        "df=pd.read_csv('nulldatanew.csv')"
      ],
      "metadata": {
        "id": "f2KZbnKg53jC"
      },
      "execution_count": null,
      "outputs": []
    },
    {
      "cell_type": "code",
      "source": [
        "df.describe()"
      ],
      "metadata": {
        "colab": {
          "base_uri": "https://localhost:8080/",
          "height": 300
        },
        "id": "kYJdihzw6jAC",
        "outputId": "96e28331-e457-4435-a6de-6d9723b2cf5c"
      },
      "execution_count": null,
      "outputs": [
        {
          "output_type": "execute_result",
          "data": {
            "text/plain": [
              "        \"Height(inches)\"   \"Weight(lbs)\"      \"Age\"\n",
              "count          35.000000       35.000000  30.000000\n",
              "mean           73.600000      200.000000  29.118667\n",
              "std             2.713799       19.505655   4.240767\n",
              "min            69.000000      160.000000  22.380000\n",
              "25%            72.000000      185.000000  25.847500\n",
              "50%            74.000000      195.000000  29.430000\n",
              "75%            75.500000      217.000000  31.135000\n",
              "max            79.000000      231.000000  36.330000"
            ],
            "text/html": [
              "\n",
              "  <div id=\"df-1c8965c0-3392-4ab5-87ee-4bf0d0ed7f27\">\n",
              "    <div class=\"colab-df-container\">\n",
              "      <div>\n",
              "<style scoped>\n",
              "    .dataframe tbody tr th:only-of-type {\n",
              "        vertical-align: middle;\n",
              "    }\n",
              "\n",
              "    .dataframe tbody tr th {\n",
              "        vertical-align: top;\n",
              "    }\n",
              "\n",
              "    .dataframe thead th {\n",
              "        text-align: right;\n",
              "    }\n",
              "</style>\n",
              "<table border=\"1\" class=\"dataframe\">\n",
              "  <thead>\n",
              "    <tr style=\"text-align: right;\">\n",
              "      <th></th>\n",
              "      <th>\"Height(inches)\"</th>\n",
              "      <th>\"Weight(lbs)\"</th>\n",
              "      <th>\"Age\"</th>\n",
              "    </tr>\n",
              "  </thead>\n",
              "  <tbody>\n",
              "    <tr>\n",
              "      <th>count</th>\n",
              "      <td>35.000000</td>\n",
              "      <td>35.000000</td>\n",
              "      <td>30.000000</td>\n",
              "    </tr>\n",
              "    <tr>\n",
              "      <th>mean</th>\n",
              "      <td>73.600000</td>\n",
              "      <td>200.000000</td>\n",
              "      <td>29.118667</td>\n",
              "    </tr>\n",
              "    <tr>\n",
              "      <th>std</th>\n",
              "      <td>2.713799</td>\n",
              "      <td>19.505655</td>\n",
              "      <td>4.240767</td>\n",
              "    </tr>\n",
              "    <tr>\n",
              "      <th>min</th>\n",
              "      <td>69.000000</td>\n",
              "      <td>160.000000</td>\n",
              "      <td>22.380000</td>\n",
              "    </tr>\n",
              "    <tr>\n",
              "      <th>25%</th>\n",
              "      <td>72.000000</td>\n",
              "      <td>185.000000</td>\n",
              "      <td>25.847500</td>\n",
              "    </tr>\n",
              "    <tr>\n",
              "      <th>50%</th>\n",
              "      <td>74.000000</td>\n",
              "      <td>195.000000</td>\n",
              "      <td>29.430000</td>\n",
              "    </tr>\n",
              "    <tr>\n",
              "      <th>75%</th>\n",
              "      <td>75.500000</td>\n",
              "      <td>217.000000</td>\n",
              "      <td>31.135000</td>\n",
              "    </tr>\n",
              "    <tr>\n",
              "      <th>max</th>\n",
              "      <td>79.000000</td>\n",
              "      <td>231.000000</td>\n",
              "      <td>36.330000</td>\n",
              "    </tr>\n",
              "  </tbody>\n",
              "</table>\n",
              "</div>\n",
              "      <button class=\"colab-df-convert\" onclick=\"convertToInteractive('df-1c8965c0-3392-4ab5-87ee-4bf0d0ed7f27')\"\n",
              "              title=\"Convert this dataframe to an interactive table.\"\n",
              "              style=\"display:none;\">\n",
              "        \n",
              "  <svg xmlns=\"http://www.w3.org/2000/svg\" height=\"24px\"viewBox=\"0 0 24 24\"\n",
              "       width=\"24px\">\n",
              "    <path d=\"M0 0h24v24H0V0z\" fill=\"none\"/>\n",
              "    <path d=\"M18.56 5.44l.94 2.06.94-2.06 2.06-.94-2.06-.94-.94-2.06-.94 2.06-2.06.94zm-11 1L8.5 8.5l.94-2.06 2.06-.94-2.06-.94L8.5 2.5l-.94 2.06-2.06.94zm10 10l.94 2.06.94-2.06 2.06-.94-2.06-.94-.94-2.06-.94 2.06-2.06.94z\"/><path d=\"M17.41 7.96l-1.37-1.37c-.4-.4-.92-.59-1.43-.59-.52 0-1.04.2-1.43.59L10.3 9.45l-7.72 7.72c-.78.78-.78 2.05 0 2.83L4 21.41c.39.39.9.59 1.41.59.51 0 1.02-.2 1.41-.59l7.78-7.78 2.81-2.81c.8-.78.8-2.07 0-2.86zM5.41 20L4 18.59l7.72-7.72 1.47 1.35L5.41 20z\"/>\n",
              "  </svg>\n",
              "      </button>\n",
              "      \n",
              "  <style>\n",
              "    .colab-df-container {\n",
              "      display:flex;\n",
              "      flex-wrap:wrap;\n",
              "      gap: 12px;\n",
              "    }\n",
              "\n",
              "    .colab-df-convert {\n",
              "      background-color: #E8F0FE;\n",
              "      border: none;\n",
              "      border-radius: 50%;\n",
              "      cursor: pointer;\n",
              "      display: none;\n",
              "      fill: #1967D2;\n",
              "      height: 32px;\n",
              "      padding: 0 0 0 0;\n",
              "      width: 32px;\n",
              "    }\n",
              "\n",
              "    .colab-df-convert:hover {\n",
              "      background-color: #E2EBFA;\n",
              "      box-shadow: 0px 1px 2px rgba(60, 64, 67, 0.3), 0px 1px 3px 1px rgba(60, 64, 67, 0.15);\n",
              "      fill: #174EA6;\n",
              "    }\n",
              "\n",
              "    [theme=dark] .colab-df-convert {\n",
              "      background-color: #3B4455;\n",
              "      fill: #D2E3FC;\n",
              "    }\n",
              "\n",
              "    [theme=dark] .colab-df-convert:hover {\n",
              "      background-color: #434B5C;\n",
              "      box-shadow: 0px 1px 3px 1px rgba(0, 0, 0, 0.15);\n",
              "      filter: drop-shadow(0px 1px 2px rgba(0, 0, 0, 0.3));\n",
              "      fill: #FFFFFF;\n",
              "    }\n",
              "  </style>\n",
              "\n",
              "      <script>\n",
              "        const buttonEl =\n",
              "          document.querySelector('#df-1c8965c0-3392-4ab5-87ee-4bf0d0ed7f27 button.colab-df-convert');\n",
              "        buttonEl.style.display =\n",
              "          google.colab.kernel.accessAllowed ? 'block' : 'none';\n",
              "\n",
              "        async function convertToInteractive(key) {\n",
              "          const element = document.querySelector('#df-1c8965c0-3392-4ab5-87ee-4bf0d0ed7f27');\n",
              "          const dataTable =\n",
              "            await google.colab.kernel.invokeFunction('convertToInteractive',\n",
              "                                                     [key], {});\n",
              "          if (!dataTable) return;\n",
              "\n",
              "          const docLinkHtml = 'Like what you see? Visit the ' +\n",
              "            '<a target=\"_blank\" href=https://colab.research.google.com/notebooks/data_table.ipynb>data table notebook</a>'\n",
              "            + ' to learn more about interactive tables.';\n",
              "          element.innerHTML = '';\n",
              "          dataTable['output_type'] = 'display_data';\n",
              "          await google.colab.output.renderOutput(dataTable, element);\n",
              "          const docLink = document.createElement('div');\n",
              "          docLink.innerHTML = docLinkHtml;\n",
              "          element.appendChild(docLink);\n",
              "        }\n",
              "      </script>\n",
              "    </div>\n",
              "  </div>\n",
              "  "
            ]
          },
          "metadata": {},
          "execution_count": 33
        }
      ]
    },
    {
      "cell_type": "code",
      "source": [
        "df.info()"
      ],
      "metadata": {
        "colab": {
          "base_uri": "https://localhost:8080/"
        },
        "id": "v0S7S-6R6ki7",
        "outputId": "a53f6dd0-fab5-4ef8-d0ec-ebbea2dcea2d"
      },
      "execution_count": null,
      "outputs": [
        {
          "output_type": "stream",
          "name": "stdout",
          "text": [
            "<class 'pandas.core.frame.DataFrame'>\n",
            "RangeIndex: 35 entries, 0 to 34\n",
            "Data columns (total 6 columns):\n",
            " #   Column             Non-Null Count  Dtype  \n",
            "---  ------             --------------  -----  \n",
            " 0   Name               35 non-null     object \n",
            " 1    \"Team\"            35 non-null     object \n",
            " 2    \"Position\"        35 non-null     object \n",
            " 3    \"Height(inches)\"  35 non-null     int64  \n",
            " 4    \"Weight(lbs)\"     35 non-null     int64  \n",
            " 5    \"Age\"             30 non-null     float64\n",
            "dtypes: float64(1), int64(2), object(3)\n",
            "memory usage: 1.8+ KB\n"
          ]
        }
      ]
    },
    {
      "cell_type": "code",
      "source": [
        "df.duplicated().sum()"
      ],
      "metadata": {
        "colab": {
          "base_uri": "https://localhost:8080/"
        },
        "id": "bJjTIoPt6map",
        "outputId": "ff2113f5-2cf3-408c-fc3f-1d0362b57fd4"
      },
      "execution_count": null,
      "outputs": [
        {
          "output_type": "execute_result",
          "data": {
            "text/plain": [
              "8"
            ]
          },
          "metadata": {},
          "execution_count": 35
        }
      ]
    },
    {
      "cell_type": "code",
      "source": [
        "df.drop_duplicates(keep= 'first')"
      ],
      "metadata": {
        "colab": {
          "base_uri": "https://localhost:8080/",
          "height": 896
        },
        "id": "KF5wZlZF6sMx",
        "outputId": "1f38fa86-2bb1-4203-aea3-b4909e2891e3"
      },
      "execution_count": null,
      "outputs": [
        {
          "output_type": "execute_result",
          "data": {
            "text/plain": [
              "                Name  \"Team\"            \"Position\"   \"Height(inches)\"  \\\n",
              "0      Adam Donachie   \"BAL\"             \"Catcher\"                 74   \n",
              "1          Paul Bako   \"BAL\"             \"Catcher\"                 74   \n",
              "2    Ramon Hernandez   \"BAL\"             \"Catcher\"                 72   \n",
              "3       Kevin Millar   \"BAL\"       \"First Baseman\"                 72   \n",
              "4        Chris Gomez   \"BAL\"       \"First Baseman\"                 73   \n",
              "5      Brian Roberts   \"BAL\"      \"Second Baseman\"                 69   \n",
              "6      Miguel Tejada   \"BAL\"           \"Shortstop\"                 69   \n",
              "7        Melvin Mora   \"BAL\"       \"Third Baseman\"                 71   \n",
              "8        Aubrey Huff   \"BAL\"       \"Third Baseman\"                 76   \n",
              "9         Adam Stern   \"BAL\"          \"Outfielder\"                 71   \n",
              "10   Jeff Fiorentino   \"BAL\"          \"Outfielder\"                 73   \n",
              "11     Freddie Bynum   \"BAL\"          \"Outfielder\"                 73   \n",
              "12     Nick Markakis   \"BAL\"          \"Outfielder\"                 74   \n",
              "13     Brandon Fahey   \"BAL\"          \"Outfielder\"                 74   \n",
              "14   Corey Patterson   \"BAL\"          \"Outfielder\"                 69   \n",
              "15        Jay Payton   \"BAL\"          \"Outfielder\"                 70   \n",
              "16       Jay Gibbons   \"BAL\"   \"Designated Hitter\"                 72   \n",
              "17       Erik Bedard   \"BAL\"    \"Starting Pitcher\"                 73   \n",
              "18       Hayden Penn   \"BAL\"    \"Starting Pitcher\"                 75   \n",
              "19       Adam Loewen   \"BAL\"    \"Starting Pitcher\"                 78   \n",
              "20    Daniel Cabrera   \"BAL\"    \"Starting Pitcher\"                 79   \n",
              "21    Steve Trachsel   \"BAL\"    \"Starting Pitcher\"                 76   \n",
              "22      Jaret Wright   \"BAL\"    \"Starting Pitcher\"                 74   \n",
              "23       Kris Benson   \"BAL\"    \"Starting Pitcher\"                 76   \n",
              "24  Scott Williamson   \"BAL\"      \"Relief Pitcher\"                 72   \n",
              "25      John Parrish   \"BAL\"      \"Relief Pitcher\"                 71   \n",
              "26        Danys Baez   \"BAL\"      \"Relief Pitcher\"                 75   \n",
              "\n",
              "     \"Weight(lbs)\"   \"Age\"  \n",
              "0              180   22.99  \n",
              "1              215   34.69  \n",
              "2              210   30.78  \n",
              "3              210   35.43  \n",
              "4              188     NaN  \n",
              "5              176   29.39  \n",
              "6              209   30.77  \n",
              "7              200   35.07  \n",
              "8              231   30.19  \n",
              "9              180     NaN  \n",
              "10             188   23.88  \n",
              "11             180   26.96  \n",
              "12             185   23.29  \n",
              "13             160   26.11  \n",
              "14             180   27.55  \n",
              "15             185   34.27  \n",
              "16             197     NaN  \n",
              "17             189   27.99  \n",
              "18             185   22.38  \n",
              "19             219   22.89  \n",
              "20             230   25.76  \n",
              "21             205   36.33  \n",
              "22             230   31.17  \n",
              "23             195     NaN  \n",
              "24             180   31.03  \n",
              "25             192   29.26  \n",
              "26             225   29.47  "
            ],
            "text/html": [
              "\n",
              "  <div id=\"df-bf3a0e49-9ffa-46b9-8226-84ffca2b71f3\">\n",
              "    <div class=\"colab-df-container\">\n",
              "      <div>\n",
              "<style scoped>\n",
              "    .dataframe tbody tr th:only-of-type {\n",
              "        vertical-align: middle;\n",
              "    }\n",
              "\n",
              "    .dataframe tbody tr th {\n",
              "        vertical-align: top;\n",
              "    }\n",
              "\n",
              "    .dataframe thead th {\n",
              "        text-align: right;\n",
              "    }\n",
              "</style>\n",
              "<table border=\"1\" class=\"dataframe\">\n",
              "  <thead>\n",
              "    <tr style=\"text-align: right;\">\n",
              "      <th></th>\n",
              "      <th>Name</th>\n",
              "      <th>\"Team\"</th>\n",
              "      <th>\"Position\"</th>\n",
              "      <th>\"Height(inches)\"</th>\n",
              "      <th>\"Weight(lbs)\"</th>\n",
              "      <th>\"Age\"</th>\n",
              "    </tr>\n",
              "  </thead>\n",
              "  <tbody>\n",
              "    <tr>\n",
              "      <th>0</th>\n",
              "      <td>Adam Donachie</td>\n",
              "      <td>\"BAL\"</td>\n",
              "      <td>\"Catcher\"</td>\n",
              "      <td>74</td>\n",
              "      <td>180</td>\n",
              "      <td>22.99</td>\n",
              "    </tr>\n",
              "    <tr>\n",
              "      <th>1</th>\n",
              "      <td>Paul Bako</td>\n",
              "      <td>\"BAL\"</td>\n",
              "      <td>\"Catcher\"</td>\n",
              "      <td>74</td>\n",
              "      <td>215</td>\n",
              "      <td>34.69</td>\n",
              "    </tr>\n",
              "    <tr>\n",
              "      <th>2</th>\n",
              "      <td>Ramon Hernandez</td>\n",
              "      <td>\"BAL\"</td>\n",
              "      <td>\"Catcher\"</td>\n",
              "      <td>72</td>\n",
              "      <td>210</td>\n",
              "      <td>30.78</td>\n",
              "    </tr>\n",
              "    <tr>\n",
              "      <th>3</th>\n",
              "      <td>Kevin Millar</td>\n",
              "      <td>\"BAL\"</td>\n",
              "      <td>\"First Baseman\"</td>\n",
              "      <td>72</td>\n",
              "      <td>210</td>\n",
              "      <td>35.43</td>\n",
              "    </tr>\n",
              "    <tr>\n",
              "      <th>4</th>\n",
              "      <td>Chris Gomez</td>\n",
              "      <td>\"BAL\"</td>\n",
              "      <td>\"First Baseman\"</td>\n",
              "      <td>73</td>\n",
              "      <td>188</td>\n",
              "      <td>NaN</td>\n",
              "    </tr>\n",
              "    <tr>\n",
              "      <th>5</th>\n",
              "      <td>Brian Roberts</td>\n",
              "      <td>\"BAL\"</td>\n",
              "      <td>\"Second Baseman\"</td>\n",
              "      <td>69</td>\n",
              "      <td>176</td>\n",
              "      <td>29.39</td>\n",
              "    </tr>\n",
              "    <tr>\n",
              "      <th>6</th>\n",
              "      <td>Miguel Tejada</td>\n",
              "      <td>\"BAL\"</td>\n",
              "      <td>\"Shortstop\"</td>\n",
              "      <td>69</td>\n",
              "      <td>209</td>\n",
              "      <td>30.77</td>\n",
              "    </tr>\n",
              "    <tr>\n",
              "      <th>7</th>\n",
              "      <td>Melvin Mora</td>\n",
              "      <td>\"BAL\"</td>\n",
              "      <td>\"Third Baseman\"</td>\n",
              "      <td>71</td>\n",
              "      <td>200</td>\n",
              "      <td>35.07</td>\n",
              "    </tr>\n",
              "    <tr>\n",
              "      <th>8</th>\n",
              "      <td>Aubrey Huff</td>\n",
              "      <td>\"BAL\"</td>\n",
              "      <td>\"Third Baseman\"</td>\n",
              "      <td>76</td>\n",
              "      <td>231</td>\n",
              "      <td>30.19</td>\n",
              "    </tr>\n",
              "    <tr>\n",
              "      <th>9</th>\n",
              "      <td>Adam Stern</td>\n",
              "      <td>\"BAL\"</td>\n",
              "      <td>\"Outfielder\"</td>\n",
              "      <td>71</td>\n",
              "      <td>180</td>\n",
              "      <td>NaN</td>\n",
              "    </tr>\n",
              "    <tr>\n",
              "      <th>10</th>\n",
              "      <td>Jeff Fiorentino</td>\n",
              "      <td>\"BAL\"</td>\n",
              "      <td>\"Outfielder\"</td>\n",
              "      <td>73</td>\n",
              "      <td>188</td>\n",
              "      <td>23.88</td>\n",
              "    </tr>\n",
              "    <tr>\n",
              "      <th>11</th>\n",
              "      <td>Freddie Bynum</td>\n",
              "      <td>\"BAL\"</td>\n",
              "      <td>\"Outfielder\"</td>\n",
              "      <td>73</td>\n",
              "      <td>180</td>\n",
              "      <td>26.96</td>\n",
              "    </tr>\n",
              "    <tr>\n",
              "      <th>12</th>\n",
              "      <td>Nick Markakis</td>\n",
              "      <td>\"BAL\"</td>\n",
              "      <td>\"Outfielder\"</td>\n",
              "      <td>74</td>\n",
              "      <td>185</td>\n",
              "      <td>23.29</td>\n",
              "    </tr>\n",
              "    <tr>\n",
              "      <th>13</th>\n",
              "      <td>Brandon Fahey</td>\n",
              "      <td>\"BAL\"</td>\n",
              "      <td>\"Outfielder\"</td>\n",
              "      <td>74</td>\n",
              "      <td>160</td>\n",
              "      <td>26.11</td>\n",
              "    </tr>\n",
              "    <tr>\n",
              "      <th>14</th>\n",
              "      <td>Corey Patterson</td>\n",
              "      <td>\"BAL\"</td>\n",
              "      <td>\"Outfielder\"</td>\n",
              "      <td>69</td>\n",
              "      <td>180</td>\n",
              "      <td>27.55</td>\n",
              "    </tr>\n",
              "    <tr>\n",
              "      <th>15</th>\n",
              "      <td>Jay Payton</td>\n",
              "      <td>\"BAL\"</td>\n",
              "      <td>\"Outfielder\"</td>\n",
              "      <td>70</td>\n",
              "      <td>185</td>\n",
              "      <td>34.27</td>\n",
              "    </tr>\n",
              "    <tr>\n",
              "      <th>16</th>\n",
              "      <td>Jay Gibbons</td>\n",
              "      <td>\"BAL\"</td>\n",
              "      <td>\"Designated Hitter\"</td>\n",
              "      <td>72</td>\n",
              "      <td>197</td>\n",
              "      <td>NaN</td>\n",
              "    </tr>\n",
              "    <tr>\n",
              "      <th>17</th>\n",
              "      <td>Erik Bedard</td>\n",
              "      <td>\"BAL\"</td>\n",
              "      <td>\"Starting Pitcher\"</td>\n",
              "      <td>73</td>\n",
              "      <td>189</td>\n",
              "      <td>27.99</td>\n",
              "    </tr>\n",
              "    <tr>\n",
              "      <th>18</th>\n",
              "      <td>Hayden Penn</td>\n",
              "      <td>\"BAL\"</td>\n",
              "      <td>\"Starting Pitcher\"</td>\n",
              "      <td>75</td>\n",
              "      <td>185</td>\n",
              "      <td>22.38</td>\n",
              "    </tr>\n",
              "    <tr>\n",
              "      <th>19</th>\n",
              "      <td>Adam Loewen</td>\n",
              "      <td>\"BAL\"</td>\n",
              "      <td>\"Starting Pitcher\"</td>\n",
              "      <td>78</td>\n",
              "      <td>219</td>\n",
              "      <td>22.89</td>\n",
              "    </tr>\n",
              "    <tr>\n",
              "      <th>20</th>\n",
              "      <td>Daniel Cabrera</td>\n",
              "      <td>\"BAL\"</td>\n",
              "      <td>\"Starting Pitcher\"</td>\n",
              "      <td>79</td>\n",
              "      <td>230</td>\n",
              "      <td>25.76</td>\n",
              "    </tr>\n",
              "    <tr>\n",
              "      <th>21</th>\n",
              "      <td>Steve Trachsel</td>\n",
              "      <td>\"BAL\"</td>\n",
              "      <td>\"Starting Pitcher\"</td>\n",
              "      <td>76</td>\n",
              "      <td>205</td>\n",
              "      <td>36.33</td>\n",
              "    </tr>\n",
              "    <tr>\n",
              "      <th>22</th>\n",
              "      <td>Jaret Wright</td>\n",
              "      <td>\"BAL\"</td>\n",
              "      <td>\"Starting Pitcher\"</td>\n",
              "      <td>74</td>\n",
              "      <td>230</td>\n",
              "      <td>31.17</td>\n",
              "    </tr>\n",
              "    <tr>\n",
              "      <th>23</th>\n",
              "      <td>Kris Benson</td>\n",
              "      <td>\"BAL\"</td>\n",
              "      <td>\"Starting Pitcher\"</td>\n",
              "      <td>76</td>\n",
              "      <td>195</td>\n",
              "      <td>NaN</td>\n",
              "    </tr>\n",
              "    <tr>\n",
              "      <th>24</th>\n",
              "      <td>Scott Williamson</td>\n",
              "      <td>\"BAL\"</td>\n",
              "      <td>\"Relief Pitcher\"</td>\n",
              "      <td>72</td>\n",
              "      <td>180</td>\n",
              "      <td>31.03</td>\n",
              "    </tr>\n",
              "    <tr>\n",
              "      <th>25</th>\n",
              "      <td>John Parrish</td>\n",
              "      <td>\"BAL\"</td>\n",
              "      <td>\"Relief Pitcher\"</td>\n",
              "      <td>71</td>\n",
              "      <td>192</td>\n",
              "      <td>29.26</td>\n",
              "    </tr>\n",
              "    <tr>\n",
              "      <th>26</th>\n",
              "      <td>Danys Baez</td>\n",
              "      <td>\"BAL\"</td>\n",
              "      <td>\"Relief Pitcher\"</td>\n",
              "      <td>75</td>\n",
              "      <td>225</td>\n",
              "      <td>29.47</td>\n",
              "    </tr>\n",
              "  </tbody>\n",
              "</table>\n",
              "</div>\n",
              "      <button class=\"colab-df-convert\" onclick=\"convertToInteractive('df-bf3a0e49-9ffa-46b9-8226-84ffca2b71f3')\"\n",
              "              title=\"Convert this dataframe to an interactive table.\"\n",
              "              style=\"display:none;\">\n",
              "        \n",
              "  <svg xmlns=\"http://www.w3.org/2000/svg\" height=\"24px\"viewBox=\"0 0 24 24\"\n",
              "       width=\"24px\">\n",
              "    <path d=\"M0 0h24v24H0V0z\" fill=\"none\"/>\n",
              "    <path d=\"M18.56 5.44l.94 2.06.94-2.06 2.06-.94-2.06-.94-.94-2.06-.94 2.06-2.06.94zm-11 1L8.5 8.5l.94-2.06 2.06-.94-2.06-.94L8.5 2.5l-.94 2.06-2.06.94zm10 10l.94 2.06.94-2.06 2.06-.94-2.06-.94-.94-2.06-.94 2.06-2.06.94z\"/><path d=\"M17.41 7.96l-1.37-1.37c-.4-.4-.92-.59-1.43-.59-.52 0-1.04.2-1.43.59L10.3 9.45l-7.72 7.72c-.78.78-.78 2.05 0 2.83L4 21.41c.39.39.9.59 1.41.59.51 0 1.02-.2 1.41-.59l7.78-7.78 2.81-2.81c.8-.78.8-2.07 0-2.86zM5.41 20L4 18.59l7.72-7.72 1.47 1.35L5.41 20z\"/>\n",
              "  </svg>\n",
              "      </button>\n",
              "      \n",
              "  <style>\n",
              "    .colab-df-container {\n",
              "      display:flex;\n",
              "      flex-wrap:wrap;\n",
              "      gap: 12px;\n",
              "    }\n",
              "\n",
              "    .colab-df-convert {\n",
              "      background-color: #E8F0FE;\n",
              "      border: none;\n",
              "      border-radius: 50%;\n",
              "      cursor: pointer;\n",
              "      display: none;\n",
              "      fill: #1967D2;\n",
              "      height: 32px;\n",
              "      padding: 0 0 0 0;\n",
              "      width: 32px;\n",
              "    }\n",
              "\n",
              "    .colab-df-convert:hover {\n",
              "      background-color: #E2EBFA;\n",
              "      box-shadow: 0px 1px 2px rgba(60, 64, 67, 0.3), 0px 1px 3px 1px rgba(60, 64, 67, 0.15);\n",
              "      fill: #174EA6;\n",
              "    }\n",
              "\n",
              "    [theme=dark] .colab-df-convert {\n",
              "      background-color: #3B4455;\n",
              "      fill: #D2E3FC;\n",
              "    }\n",
              "\n",
              "    [theme=dark] .colab-df-convert:hover {\n",
              "      background-color: #434B5C;\n",
              "      box-shadow: 0px 1px 3px 1px rgba(0, 0, 0, 0.15);\n",
              "      filter: drop-shadow(0px 1px 2px rgba(0, 0, 0, 0.3));\n",
              "      fill: #FFFFFF;\n",
              "    }\n",
              "  </style>\n",
              "\n",
              "      <script>\n",
              "        const buttonEl =\n",
              "          document.querySelector('#df-bf3a0e49-9ffa-46b9-8226-84ffca2b71f3 button.colab-df-convert');\n",
              "        buttonEl.style.display =\n",
              "          google.colab.kernel.accessAllowed ? 'block' : 'none';\n",
              "\n",
              "        async function convertToInteractive(key) {\n",
              "          const element = document.querySelector('#df-bf3a0e49-9ffa-46b9-8226-84ffca2b71f3');\n",
              "          const dataTable =\n",
              "            await google.colab.kernel.invokeFunction('convertToInteractive',\n",
              "                                                     [key], {});\n",
              "          if (!dataTable) return;\n",
              "\n",
              "          const docLinkHtml = 'Like what you see? Visit the ' +\n",
              "            '<a target=\"_blank\" href=https://colab.research.google.com/notebooks/data_table.ipynb>data table notebook</a>'\n",
              "            + ' to learn more about interactive tables.';\n",
              "          element.innerHTML = '';\n",
              "          dataTable['output_type'] = 'display_data';\n",
              "          await google.colab.output.renderOutput(dataTable, element);\n",
              "          const docLink = document.createElement('div');\n",
              "          docLink.innerHTML = docLinkHtml;\n",
              "          element.appendChild(docLink);\n",
              "        }\n",
              "      </script>\n",
              "    </div>\n",
              "  </div>\n",
              "  "
            ]
          },
          "metadata": {},
          "execution_count": 36
        }
      ]
    },
    {
      "cell_type": "code",
      "source": [
        "df.to_csv(\"a.csv\")"
      ],
      "metadata": {
        "id": "5oIAN1kB666R"
      },
      "execution_count": null,
      "outputs": []
    },
    {
      "cell_type": "code",
      "source": [
        "k=df[' \"Age\"'].remove()"
      ],
      "metadata": {
        "colab": {
          "base_uri": "https://localhost:8080/",
          "height": 287
        },
        "id": "ka6-RDsX7O5C",
        "outputId": "4a85d851-35f0-40b7-eabd-c7b49d715c01"
      },
      "execution_count": null,
      "outputs": [
        {
          "output_type": "error",
          "ename": "AttributeError",
          "evalue": "ignored",
          "traceback": [
            "\u001b[0;31m---------------------------------------------------------------------------\u001b[0m",
            "\u001b[0;31mAttributeError\u001b[0m                            Traceback (most recent call last)",
            "\u001b[0;32m<ipython-input-39-2e6d1dc49d1d>\u001b[0m in \u001b[0;36m<module>\u001b[0;34m\u001b[0m\n\u001b[0;32m----> 1\u001b[0;31m \u001b[0mk\u001b[0m\u001b[0;34m=\u001b[0m\u001b[0mdf\u001b[0m\u001b[0;34m[\u001b[0m\u001b[0;34m' \"Age\"'\u001b[0m\u001b[0;34m]\u001b[0m\u001b[0;34m.\u001b[0m\u001b[0mremove\u001b[0m\u001b[0;34m(\u001b[0m\u001b[0;34m)\u001b[0m\u001b[0;34m\u001b[0m\u001b[0;34m\u001b[0m\u001b[0m\n\u001b[0m",
            "\u001b[0;32m/usr/local/lib/python3.8/dist-packages/pandas/core/generic.py\u001b[0m in \u001b[0;36m__getattr__\u001b[0;34m(self, name)\u001b[0m\n\u001b[1;32m   5485\u001b[0m         ):\n\u001b[1;32m   5486\u001b[0m             \u001b[0;32mreturn\u001b[0m \u001b[0mself\u001b[0m\u001b[0;34m[\u001b[0m\u001b[0mname\u001b[0m\u001b[0;34m]\u001b[0m\u001b[0;34m\u001b[0m\u001b[0;34m\u001b[0m\u001b[0m\n\u001b[0;32m-> 5487\u001b[0;31m         \u001b[0;32mreturn\u001b[0m \u001b[0mobject\u001b[0m\u001b[0;34m.\u001b[0m\u001b[0m__getattribute__\u001b[0m\u001b[0;34m(\u001b[0m\u001b[0mself\u001b[0m\u001b[0;34m,\u001b[0m \u001b[0mname\u001b[0m\u001b[0;34m)\u001b[0m\u001b[0;34m\u001b[0m\u001b[0;34m\u001b[0m\u001b[0m\n\u001b[0m\u001b[1;32m   5488\u001b[0m \u001b[0;34m\u001b[0m\u001b[0m\n\u001b[1;32m   5489\u001b[0m     \u001b[0;32mdef\u001b[0m \u001b[0m__setattr__\u001b[0m\u001b[0;34m(\u001b[0m\u001b[0mself\u001b[0m\u001b[0;34m,\u001b[0m \u001b[0mname\u001b[0m\u001b[0;34m:\u001b[0m \u001b[0mstr\u001b[0m\u001b[0;34m,\u001b[0m \u001b[0mvalue\u001b[0m\u001b[0;34m)\u001b[0m \u001b[0;34m->\u001b[0m \u001b[0;32mNone\u001b[0m\u001b[0;34m:\u001b[0m\u001b[0;34m\u001b[0m\u001b[0;34m\u001b[0m\u001b[0m\n",
            "\u001b[0;31mAttributeError\u001b[0m: 'Series' object has no attribute 'remove'"
          ]
        }
      ]
    },
    {
      "cell_type": "code",
      "source": [
        "from google.colab import drive\n",
        "drive.mount('/content/drive')"
      ],
      "metadata": {
        "id": "X5NMsmyT7Whl"
      },
      "execution_count": null,
      "outputs": []
    }
  ]
}